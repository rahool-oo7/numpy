{
 "cells": [
  {
   "cell_type": "markdown",
   "metadata": {},
   "source": [
    "## LEARNING FROM CHAI AND CODE"
   ]
  },
  {
   "cell_type": "code",
   "execution_count": 1,
   "metadata": {},
   "outputs": [],
   "source": [
    "import numpy as np"
   ]
  },
  {
   "cell_type": "code",
   "execution_count": 2,
   "metadata": {},
   "outputs": [
    {
     "data": {
      "text/plain": [
       "array([[1, 2, 3, 4],\n",
       "       [5, 6, 7, 8]])"
      ]
     },
     "execution_count": 2,
     "metadata": {},
     "output_type": "execute_result"
    }
   ],
   "source": [
    "# arr_2D = np.array([1,2,3,4],[5,6,7,8]) #Will give error as the whole elements should be inside a single '[]'\n",
    "arr_2D = np.array([[1,2,3,4],[5,6,7,8]]) #Now no error\n",
    "arr_2D"
   ]
  },
  {
   "cell_type": "code",
   "execution_count": 3,
   "metadata": {},
   "outputs": [
    {
     "name": "stdout",
     "output_type": "stream",
     "text": [
      "Multiplication of array element :  [2 4 6]\n"
     ]
    }
   ],
   "source": [
    "#Multiplication in array\n",
    "mul = np.array([1,2,3])\n",
    "print(\"Multiplication of array element : \",mul * 2)"
   ]
  },
  {
   "cell_type": "markdown",
   "metadata": {},
   "source": [
    "#### CHECK OPERATION TIME OF LIST AND ARRAY"
   ]
  },
  {
   "cell_type": "code",
   "execution_count": null,
   "metadata": {},
   "outputs": [
    {
     "name": "stdout",
     "output_type": "stream",
     "text": [
      "List operation time :  0.006118059158325195\n",
      "Array operation time :  0.0004589557647705078\n"
     ]
    }
   ],
   "source": [
    "\n",
    "import time\n",
    "\n",
    "start = time.time()\n",
    "py_list = [i*2 for i in range(100000)]\n",
    "end1 = time.time() - start\n",
    "\n",
    "start2 = time.time()\n",
    "py_arr = np.arange(100000) * 2\n",
    "end2 = time.time() - start2\n",
    "print(\"List operation time : \", end1)\n",
    "print(\"Array operation time : \", end2)"
   ]
  },
  {
   "cell_type": "markdown",
   "metadata": {},
   "source": [
    "### CREATING ARRAY FROM SCRATCH"
   ]
  },
  {
   "cell_type": "code",
   "execution_count": null,
   "metadata": {},
   "outputs": [
    {
     "name": "stdout",
     "output_type": "stream",
     "text": [
      "[[0. 0. 0. 0. 0.]\n",
      " [0. 0. 0. 0. 0.]\n",
      " [0. 0. 0. 0. 0.]]\n",
      "[[1. 1. 1.]\n",
      " [1. 1. 1.]\n",
      " [1. 1. 1.]\n",
      " [1. 1. 1.]]\n",
      "[[3 3]\n",
      " [3 3]]\n",
      "[[0.4990728  0.55117621 0.37803532 0.12719255]\n",
      " [0.36544172 0.33806541 0.97725606 0.22520193]]\n",
      "[0 2 4 6 8]\n"
     ]
    }
   ],
   "source": [
    "zeroes = np.zeros((3,5)) #all value 0\n",
    "print(zeroes)\n",
    "\n",
    "ones = np.ones((4,3))   #all value 1\n",
    "print(ones)\n",
    "\n",
    "full = np.full((2,2), 3) #all value constant [3]\n",
    "print(full)\n",
    "\n",
    "random = np.random.random((2,4)) # assign value randomly between 0 to 1 (decimal)\n",
    "print(random)\n",
    "\n",
    "sequence = np.arange(0,10, 2)  # assign values from a range \n",
    "print(sequence)"
   ]
  },
  {
   "cell_type": "markdown",
   "metadata": {},
   "source": [
    "### Vector Matrix and Tensor"
   ]
  },
  {
   "cell_type": "code",
   "execution_count": null,
   "metadata": {},
   "outputs": [
    {
     "name": "stdout",
     "output_type": "stream",
     "text": [
      "Vector :  [1 2 3]\n",
      "Matrix : \n",
      " [[1 2 3]\n",
      " [4 5 6]]\n",
      "Tensor : \n",
      " [[[ 1  2]\n",
      "  [ 3  4]]\n",
      "\n",
      " [[ 5  6]\n",
      "  [ 7  8]]\n",
      "\n",
      " [[ 9 10]\n",
      "  [11 12]]]\n"
     ]
    }
   ],
   "source": [
    "vector = np.array([1,2,3]) # 1 Dimensional\n",
    "print(\"Vector : \",vector)\n",
    "\n",
    "matrix = np.array([[1,2,3],  # 2 Dimensional\n",
    "                   [4,5,6]])\n",
    "print(\"Matrix : \\n\", matrix)\n",
    "\n",
    "tensor = np .array([[[1,2],[3,4]],  # 3 Dimensional or more \n",
    "                    [[5,6],[7,8]],\n",
    "                    [[9,10],[11,12]]])\n",
    "print(\"Tensor : \\n\", tensor)"
   ]
  },
  {
   "cell_type": "markdown",
   "metadata": {},
   "source": [
    "### Array properties"
   ]
  },
  {
   "cell_type": "code",
   "execution_count": null,
   "metadata": {},
   "outputs": [
    {
     "name": "stdout",
     "output_type": "stream",
     "text": [
      "Shape:  (2, 3)\n",
      "Size:  6\n",
      "Dimension:  2\n",
      "Datatype:  int64\n"
     ]
    }
   ],
   "source": [
    "arr = np.array([[1,2,3],        #basic array 2D\n",
    "                [4,5,6]])\n",
    "\n",
    "print (\"Shape: \", arr.shape)   # gives rows and columns\n",
    "print (\"Size: \", arr.size)   # gives number of elements\n",
    "print (\"Dimension: \", arr.ndim)   # gives number of dimension\n",
    "print(\"Datatype: \", arr.dtype)    # every integer bits memory given (datatype)\n"
   ]
  },
  {
   "cell_type": "markdown",
   "metadata": {},
   "source": [
    "### array reshaping\n"
   ]
  },
  {
   "cell_type": "code",
   "execution_count": 3,
   "metadata": {},
   "outputs": [
    {
     "name": "stdout",
     "output_type": "stream",
     "text": [
      "Original array :  [ 0  1  2  3  4  5  6  7  8  9 10 11]\n",
      "Reshaped array : \n",
      " [[ 0  1  2  3]\n",
      " [ 4  5  6  7]\n",
      " [ 8  9 10 11]]\n",
      "Flattened array :  [ 0  1  2  3  4  5  6  7  8  9 10 11]\n",
      "Raveled(Original) array :  <built-in method ravel of numpy.ndarray object at 0x1079de2d0>\n",
      "Transposed array : \n",
      " [[ 0  4  8]\n",
      " [ 1  5  9]\n",
      " [ 2  6 10]\n",
      " [ 3  7 11]]\n"
     ]
    }
   ],
   "source": [
    "arr = np.arange(12)\n",
    "print('Original array : ', arr)\n",
    "\n",
    "reshape = arr.reshape((3,4))\n",
    "print('Reshaped array : \\n', reshape)\n",
    "\n",
    "flatten = reshape.flatten()\n",
    "print('Flattened array : ', flatten)\n",
    "\n",
    "# returns original array view, not copy\n",
    "raveled = flatten.ravel\n",
    "print('Raveled(Original) array : ', raveled)\n",
    "\n",
    "#transpose\n",
    "transpose = reshape.T\n",
    "print(\"Transposed array : \\n\", transpose)"
   ]
  },
  {
   "cell_type": "code",
   "execution_count": null,
   "metadata": {},
   "outputs": [],
   "source": []
  }
 ],
 "metadata": {
  "kernelspec": {
   "display_name": "venv",
   "language": "python",
   "name": "python3"
  },
  "language_info": {
   "codemirror_mode": {
    "name": "ipython",
    "version": 3
   },
   "file_extension": ".py",
   "mimetype": "text/x-python",
   "name": "python",
   "nbconvert_exporter": "python",
   "pygments_lexer": "ipython3",
   "version": "3.9.7"
  }
 },
 "nbformat": 4,
 "nbformat_minor": 2
}
