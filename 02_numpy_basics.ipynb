{
 "cells": [
  {
   "cell_type": "markdown",
   "metadata": {},
   "source": [
    "### Numpy Array Operation"
   ]
  },
  {
   "cell_type": "code",
   "execution_count": 5,
   "metadata": {},
   "outputs": [],
   "source": [
    "import numpy as np"
   ]
  },
  {
   "cell_type": "code",
   "execution_count": 2,
   "metadata": {},
   "outputs": [
    {
     "name": "stdout",
     "output_type": "stream",
     "text": [
      "Original array :  [1 2 3 4 5 6 7 8 9]\n",
      "Basic slicing :  [3 4 5 6 7]\n",
      "With steps :  [2 4 6 8]\n",
      "Negative indeing :  7\n"
     ]
    }
   ],
   "source": [
    "arr = np.array([1,2,3,4,5,6,7,8,9])\n",
    "print('Original array : ', arr)\n",
    "\n",
    "print(\"Basic slicing : \", arr[2:7])\n",
    "print(\"With steps : \", arr[1:8:2])\n",
    "\n",
    "print(\"Negative indeing : \", arr[-3])"
   ]
  },
  {
   "cell_type": "code",
   "execution_count": 6,
   "metadata": {},
   "outputs": [
    {
     "name": "stdout",
     "output_type": "stream",
     "text": [
      "Specific element :  5\n",
      "entire row ;  [4 5 6]\n",
      "entire col ;  [3 6 9]\n"
     ]
    }
   ],
   "source": [
    "arr_2d = np.array([[1,2,3],\n",
    "                   [4,5,6],\n",
    "                   [7,8,9]])\n",
    "\n",
    "print(\"Specific element : \", arr_2d[1,1])\n",
    "print(\"entire row ; \", arr_2d[1])\n",
    "print(\"entire col ; \", arr_2d[:, 2])"
   ]
  },
  {
   "cell_type": "markdown",
   "metadata": {},
   "source": [
    "### Sorting"
   ]
  },
  {
   "cell_type": "code",
   "execution_count": null,
   "metadata": {},
   "outputs": [
    {
     "name": "stdout",
     "output_type": "stream",
     "text": [
      "Sorted array :  [1 1 2 3 4 5 6 9]\n",
      "Sorting of 2D by column: \n",
      " [[1 1]\n",
      " [2 2]\n",
      " [3 3]]\n",
      "Sorting of 2D by row: \n",
      " [[1 3]\n",
      " [1 2]\n",
      " [2 3]]\n"
     ]
    }
   ],
   "source": [
    "unsorted = np.array([3, 1, 4, 1, 5, 9, 2, 6])\n",
    "print(\"Sorted array : \", np.sort(unsorted))\n",
    "\n",
    "unsorted_2d_arr = np.array([[3,1],[1,2],[2,3]])\n",
    "print(\"Sorting of 2D by column: \\n\",np.sort(unsorted_2d_arr, axis=0))\n",
    "print(\"Sorting of 2D by row: \\n\",np.sort(unsorted_2d_arr, axis=1))\n"
   ]
  },
  {
   "cell_type": "markdown",
   "metadata": {},
   "source": [
    "### Filter"
   ]
  },
  {
   "cell_type": "code",
   "execution_count": 14,
   "metadata": {},
   "outputs": [
    {
     "name": "stdout",
     "output_type": "stream",
     "text": [
      "[ 1  2  3  4  5  6  7  8  9 10]\n",
      "[ 2  4  6  8 10]\n",
      "[1 3 5 7 9]\n"
     ]
    }
   ],
   "source": [
    "numbers = np.arange(1, 11)\n",
    "print(numbers)\n",
    "\n",
    "even_numbers = numbers [numbers % 2 == 0]\n",
    "print(even_numbers)\n",
    "\n",
    "odd_numbers = numbers [numbers % 2 != 0]\n",
    "print(odd_numbers)"
   ]
  },
  {
   "cell_type": "markdown",
   "metadata": {},
   "source": [
    "### Filter with mask"
   ]
  },
  {
   "cell_type": "code",
   "execution_count": 16,
   "metadata": {},
   "outputs": [
    {
     "name": "stdout",
     "output_type": "stream",
     "text": [
      "Numbers greater than 5 are :  [ 6  7  8  9 10]\n"
     ]
    }
   ],
   "source": [
    "mask =  numbers > 5\n",
    "print(\"Numbers greater than 5 are : \", numbers[mask])"
   ]
  },
  {
   "cell_type": "markdown",
   "metadata": {},
   "source": [
    "\n",
    "### Fancy indexing vs np.where()"
   ]
  },
  {
   "cell_type": "code",
   "execution_count": 18,
   "metadata": {},
   "outputs": [
    {
     "name": "stdout",
     "output_type": "stream",
     "text": [
      "[3 5 7]\n",
      "Numbers greater than 5 :  [ 6  7  8  9 10]\n"
     ]
    }
   ],
   "source": [
    "indices = [2,4,6] \n",
    "print(numbers[indices]) #uses indices as index value and print corresponding element\n",
    "\n",
    "where_result = np.where(numbers > 5)\n",
    "print(\"Numbers greater than 5 : \", numbers[where_result]) "
   ]
  },
  {
   "cell_type": "code",
   "execution_count": null,
   "metadata": {},
   "outputs": [
    {
     "name": "stdout",
     "output_type": "stream",
     "text": [
      "Condition array :  [ 1  2  3 12 15 18 21 24 27 30]\n"
     ]
    }
   ],
   "source": [
    "condition_array = np.where(numbers > 3, numbers*3, numbers)\n",
    "# np.where(condition, if True return value, if False return value)\n",
    "\n",
    "print(\"Condition array : \", condition_array)\n",
    "#numbers greater than 3 are multiplied by 3 rest as usual"
   ]
  },
  {
   "cell_type": "markdown",
   "metadata": {},
   "source": [
    "### Adding and removing data"
   ]
  },
  {
   "cell_type": "code",
   "execution_count": 18,
   "metadata": {},
   "outputs": [
    {
     "name": "stdout",
     "output_type": "stream",
     "text": [
      "Element added :  [5 7 9]\n",
      "Array merged :  [1 2 3 4 5 6]\n"
     ]
    }
   ],
   "source": [
    "arr1 = np.array([1,2,3])\n",
    "arr2 = np.array([4,5,6])\n",
    "\n",
    "add = arr1 + arr2 # this will add the values\n",
    "print(\"Element added : \",add)\n",
    "\n",
    "combined = np.concatenate((arr1,arr2))\n",
    "print(\"Array merged : \", combined)"
   ]
  },
  {
   "cell_type": "markdown",
   "metadata": {},
   "source": [
    "### array compatibility"
   ]
  },
  {
   "cell_type": "code",
   "execution_count": 7,
   "metadata": {},
   "outputs": [
    {
     "name": "stdout",
     "output_type": "stream",
     "text": [
      "Compatibility shape :  False\n"
     ]
    }
   ],
   "source": [
    "a = np.array([1,2,3])\n",
    "b = np.array([4,5,6,4])\n",
    "c = np.array([7,8,9])\n",
    "\n",
    "print(\"Compatibility shape : \", a.shape == b.shape)\n",
    "\n"
   ]
  },
  {
   "cell_type": "markdown",
   "metadata": {},
   "source": [
    "### vstack and hstack"
   ]
  },
  {
   "cell_type": "code",
   "execution_count": null,
   "metadata": {},
   "outputs": [
    {
     "name": "stdout",
     "output_type": "stream",
     "text": [
      "Original array : \n",
      " [[1 2]\n",
      " [3 4]]\n",
      "With new row : \n",
      " [[1 2]\n",
      " [3 4]\n",
      " [5 6]]\n"
     ]
    }
   ],
   "source": [
    "#adding a row to 2D array (vstack)\n",
    "\n",
    "original_arr = np.array([[1,2],[3,4]])\n",
    "print(\"Original array : \\n\", original_arr)\n",
    "new_row = np.array([[5,6]]) #this should also be 2D\n",
    "\n",
    "with_new_row = np.vstack((original_arr, new_row))\n",
    "print(\"With new row : \\n\", with_new_row)\n",
    "\n"
   ]
  },
  {
   "cell_type": "code",
   "execution_count": 8,
   "metadata": {},
   "outputs": [
    {
     "name": "stdout",
     "output_type": "stream",
     "text": [
      "Original array : \n",
      " [[1 2]\n",
      " [3 4]]\n",
      "With new col : \n",
      " [[1 2 5]\n",
      " [3 4 6]]\n"
     ]
    }
   ],
   "source": [
    "#adding a column to 2D array (hstack)\n",
    "\n",
    "original_arr = np.array([[1,2],[3,4]])\n",
    "print(\"Original array : \\n\", original_arr)\n",
    "new_col = np.array([[5],[6]]) #these are column element to add\n",
    "\n",
    "with_new_col = np.hstack((original_arr, new_col))\n",
    "print(\"With new col : \\n\", with_new_col)"
   ]
  },
  {
   "cell_type": "markdown",
   "metadata": {},
   "source": [
    "### Deletion in array"
   ]
  },
  {
   "cell_type": "code",
   "execution_count": 11,
   "metadata": {},
   "outputs": [
    {
     "name": "stdout",
     "output_type": "stream",
     "text": [
      "New array after delete :  [1 2 4 5]\n"
     ]
    }
   ],
   "source": [
    "arr = np.array([1,2,3,4,5])\n",
    "deleted = np.delete(arr, 2)  #this will return array after deleting not the element deleted\n",
    "\n",
    "print(\"New array after delete : \", deleted)"
   ]
  },
  {
   "cell_type": "code",
   "execution_count": null,
   "metadata": {},
   "outputs": [],
   "source": []
  }
 ],
 "metadata": {
  "kernelspec": {
   "display_name": "venv",
   "language": "python",
   "name": "python3"
  },
  "language_info": {
   "codemirror_mode": {
    "name": "ipython",
    "version": 3
   },
   "file_extension": ".py",
   "mimetype": "text/x-python",
   "name": "python",
   "nbconvert_exporter": "python",
   "pygments_lexer": "ipython3",
   "version": "3.9.7"
  }
 },
 "nbformat": 4,
 "nbformat_minor": 2
}
